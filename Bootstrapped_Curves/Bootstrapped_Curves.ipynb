{
  "nbformat": 4,
  "nbformat_minor": 0,
  "metadata": {
    "colab": {
      "provenance": []
    },
    "kernelspec": {
      "name": "python3",
      "display_name": "Python 3"
    },
    "language_info": {
      "name": "python"
    },
    "widgets": {
      "application/vnd.jupyter.widget-state+json": {
        "3690028080444bc88591b12be709470b": {
          "model_module": "@jupyter-widgets/controls",
          "model_name": "HBoxModel",
          "model_module_version": "1.5.0",
          "state": {
            "_dom_classes": [],
            "_model_module": "@jupyter-widgets/controls",
            "_model_module_version": "1.5.0",
            "_model_name": "HBoxModel",
            "_view_count": null,
            "_view_module": "@jupyter-widgets/controls",
            "_view_module_version": "1.5.0",
            "_view_name": "HBoxView",
            "box_style": "",
            "children": [
              "IPY_MODEL_1ac555286159401790ad5e9a6c12d843",
              "IPY_MODEL_bae74599119b40049cdf96f1f6dbfb97",
              "IPY_MODEL_ff0b7fdb2ffe4e38b52fec498df0a06a"
            ],
            "layout": "IPY_MODEL_97fdfd9621f14b09a65eb74986018975"
          }
        },
        "1ac555286159401790ad5e9a6c12d843": {
          "model_module": "@jupyter-widgets/controls",
          "model_name": "HTMLModel",
          "model_module_version": "1.5.0",
          "state": {
            "_dom_classes": [],
            "_model_module": "@jupyter-widgets/controls",
            "_model_module_version": "1.5.0",
            "_model_name": "HTMLModel",
            "_view_count": null,
            "_view_module": "@jupyter-widgets/controls",
            "_view_module_version": "1.5.0",
            "_view_name": "HTMLView",
            "description": "",
            "description_tooltip": null,
            "layout": "IPY_MODEL_caf9613f28c14b0d94aefaea72eb288a",
            "placeholder": "​",
            "style": "IPY_MODEL_c053ecd26ecc43bba18fc2406a2c630e",
            "value": "100%"
          }
        },
        "bae74599119b40049cdf96f1f6dbfb97": {
          "model_module": "@jupyter-widgets/controls",
          "model_name": "FloatProgressModel",
          "model_module_version": "1.5.0",
          "state": {
            "_dom_classes": [],
            "_model_module": "@jupyter-widgets/controls",
            "_model_module_version": "1.5.0",
            "_model_name": "FloatProgressModel",
            "_view_count": null,
            "_view_module": "@jupyter-widgets/controls",
            "_view_module_version": "1.5.0",
            "_view_name": "ProgressView",
            "bar_style": "success",
            "description": "",
            "description_tooltip": null,
            "layout": "IPY_MODEL_3e1f48c273954f89a7c6cefa829ae7e3",
            "max": 10000,
            "min": 0,
            "orientation": "horizontal",
            "style": "IPY_MODEL_7110669dc20a43b09a42888c3542a345",
            "value": 10000
          }
        },
        "ff0b7fdb2ffe4e38b52fec498df0a06a": {
          "model_module": "@jupyter-widgets/controls",
          "model_name": "HTMLModel",
          "model_module_version": "1.5.0",
          "state": {
            "_dom_classes": [],
            "_model_module": "@jupyter-widgets/controls",
            "_model_module_version": "1.5.0",
            "_model_name": "HTMLModel",
            "_view_count": null,
            "_view_module": "@jupyter-widgets/controls",
            "_view_module_version": "1.5.0",
            "_view_name": "HTMLView",
            "description": "",
            "description_tooltip": null,
            "layout": "IPY_MODEL_513a942b54f14d78a5aa42f99e886503",
            "placeholder": "​",
            "style": "IPY_MODEL_5cdd6a6177a946bdbb5b381fa2640616",
            "value": " 10000/10000 [00:12&lt;00:00, 964.75it/s]"
          }
        },
        "97fdfd9621f14b09a65eb74986018975": {
          "model_module": "@jupyter-widgets/base",
          "model_name": "LayoutModel",
          "model_module_version": "1.2.0",
          "state": {
            "_model_module": "@jupyter-widgets/base",
            "_model_module_version": "1.2.0",
            "_model_name": "LayoutModel",
            "_view_count": null,
            "_view_module": "@jupyter-widgets/base",
            "_view_module_version": "1.2.0",
            "_view_name": "LayoutView",
            "align_content": null,
            "align_items": null,
            "align_self": null,
            "border": null,
            "bottom": null,
            "display": null,
            "flex": null,
            "flex_flow": null,
            "grid_area": null,
            "grid_auto_columns": null,
            "grid_auto_flow": null,
            "grid_auto_rows": null,
            "grid_column": null,
            "grid_gap": null,
            "grid_row": null,
            "grid_template_areas": null,
            "grid_template_columns": null,
            "grid_template_rows": null,
            "height": null,
            "justify_content": null,
            "justify_items": null,
            "left": null,
            "margin": null,
            "max_height": null,
            "max_width": null,
            "min_height": null,
            "min_width": null,
            "object_fit": null,
            "object_position": null,
            "order": null,
            "overflow": null,
            "overflow_x": null,
            "overflow_y": null,
            "padding": null,
            "right": null,
            "top": null,
            "visibility": null,
            "width": null
          }
        },
        "caf9613f28c14b0d94aefaea72eb288a": {
          "model_module": "@jupyter-widgets/base",
          "model_name": "LayoutModel",
          "model_module_version": "1.2.0",
          "state": {
            "_model_module": "@jupyter-widgets/base",
            "_model_module_version": "1.2.0",
            "_model_name": "LayoutModel",
            "_view_count": null,
            "_view_module": "@jupyter-widgets/base",
            "_view_module_version": "1.2.0",
            "_view_name": "LayoutView",
            "align_content": null,
            "align_items": null,
            "align_self": null,
            "border": null,
            "bottom": null,
            "display": null,
            "flex": null,
            "flex_flow": null,
            "grid_area": null,
            "grid_auto_columns": null,
            "grid_auto_flow": null,
            "grid_auto_rows": null,
            "grid_column": null,
            "grid_gap": null,
            "grid_row": null,
            "grid_template_areas": null,
            "grid_template_columns": null,
            "grid_template_rows": null,
            "height": null,
            "justify_content": null,
            "justify_items": null,
            "left": null,
            "margin": null,
            "max_height": null,
            "max_width": null,
            "min_height": null,
            "min_width": null,
            "object_fit": null,
            "object_position": null,
            "order": null,
            "overflow": null,
            "overflow_x": null,
            "overflow_y": null,
            "padding": null,
            "right": null,
            "top": null,
            "visibility": null,
            "width": null
          }
        },
        "c053ecd26ecc43bba18fc2406a2c630e": {
          "model_module": "@jupyter-widgets/controls",
          "model_name": "DescriptionStyleModel",
          "model_module_version": "1.5.0",
          "state": {
            "_model_module": "@jupyter-widgets/controls",
            "_model_module_version": "1.5.0",
            "_model_name": "DescriptionStyleModel",
            "_view_count": null,
            "_view_module": "@jupyter-widgets/base",
            "_view_module_version": "1.2.0",
            "_view_name": "StyleView",
            "description_width": ""
          }
        },
        "3e1f48c273954f89a7c6cefa829ae7e3": {
          "model_module": "@jupyter-widgets/base",
          "model_name": "LayoutModel",
          "model_module_version": "1.2.0",
          "state": {
            "_model_module": "@jupyter-widgets/base",
            "_model_module_version": "1.2.0",
            "_model_name": "LayoutModel",
            "_view_count": null,
            "_view_module": "@jupyter-widgets/base",
            "_view_module_version": "1.2.0",
            "_view_name": "LayoutView",
            "align_content": null,
            "align_items": null,
            "align_self": null,
            "border": null,
            "bottom": null,
            "display": null,
            "flex": null,
            "flex_flow": null,
            "grid_area": null,
            "grid_auto_columns": null,
            "grid_auto_flow": null,
            "grid_auto_rows": null,
            "grid_column": null,
            "grid_gap": null,
            "grid_row": null,
            "grid_template_areas": null,
            "grid_template_columns": null,
            "grid_template_rows": null,
            "height": null,
            "justify_content": null,
            "justify_items": null,
            "left": null,
            "margin": null,
            "max_height": null,
            "max_width": null,
            "min_height": null,
            "min_width": null,
            "object_fit": null,
            "object_position": null,
            "order": null,
            "overflow": null,
            "overflow_x": null,
            "overflow_y": null,
            "padding": null,
            "right": null,
            "top": null,
            "visibility": null,
            "width": null
          }
        },
        "7110669dc20a43b09a42888c3542a345": {
          "model_module": "@jupyter-widgets/controls",
          "model_name": "ProgressStyleModel",
          "model_module_version": "1.5.0",
          "state": {
            "_model_module": "@jupyter-widgets/controls",
            "_model_module_version": "1.5.0",
            "_model_name": "ProgressStyleModel",
            "_view_count": null,
            "_view_module": "@jupyter-widgets/base",
            "_view_module_version": "1.2.0",
            "_view_name": "StyleView",
            "bar_color": null,
            "description_width": ""
          }
        },
        "513a942b54f14d78a5aa42f99e886503": {
          "model_module": "@jupyter-widgets/base",
          "model_name": "LayoutModel",
          "model_module_version": "1.2.0",
          "state": {
            "_model_module": "@jupyter-widgets/base",
            "_model_module_version": "1.2.0",
            "_model_name": "LayoutModel",
            "_view_count": null,
            "_view_module": "@jupyter-widgets/base",
            "_view_module_version": "1.2.0",
            "_view_name": "LayoutView",
            "align_content": null,
            "align_items": null,
            "align_self": null,
            "border": null,
            "bottom": null,
            "display": null,
            "flex": null,
            "flex_flow": null,
            "grid_area": null,
            "grid_auto_columns": null,
            "grid_auto_flow": null,
            "grid_auto_rows": null,
            "grid_column": null,
            "grid_gap": null,
            "grid_row": null,
            "grid_template_areas": null,
            "grid_template_columns": null,
            "grid_template_rows": null,
            "height": null,
            "justify_content": null,
            "justify_items": null,
            "left": null,
            "margin": null,
            "max_height": null,
            "max_width": null,
            "min_height": null,
            "min_width": null,
            "object_fit": null,
            "object_position": null,
            "order": null,
            "overflow": null,
            "overflow_x": null,
            "overflow_y": null,
            "padding": null,
            "right": null,
            "top": null,
            "visibility": null,
            "width": null
          }
        },
        "5cdd6a6177a946bdbb5b381fa2640616": {
          "model_module": "@jupyter-widgets/controls",
          "model_name": "DescriptionStyleModel",
          "model_module_version": "1.5.0",
          "state": {
            "_model_module": "@jupyter-widgets/controls",
            "_model_module_version": "1.5.0",
            "_model_name": "DescriptionStyleModel",
            "_view_count": null,
            "_view_module": "@jupyter-widgets/base",
            "_view_module_version": "1.2.0",
            "_view_name": "StyleView",
            "description_width": ""
          }
        },
        "7af4680f7b7d46a590420f3cb7f7a5a4": {
          "model_module": "@jupyter-widgets/controls",
          "model_name": "HBoxModel",
          "model_module_version": "1.5.0",
          "state": {
            "_dom_classes": [],
            "_model_module": "@jupyter-widgets/controls",
            "_model_module_version": "1.5.0",
            "_model_name": "HBoxModel",
            "_view_count": null,
            "_view_module": "@jupyter-widgets/controls",
            "_view_module_version": "1.5.0",
            "_view_name": "HBoxView",
            "box_style": "",
            "children": [
              "IPY_MODEL_244e3c52b9fb4afba8874d4be3c0211c",
              "IPY_MODEL_f339369d119b46c6a2088178df330e8b",
              "IPY_MODEL_376120b879a14a96a0f90fa9b124ddfb"
            ],
            "layout": "IPY_MODEL_6dd7c7affd39415f8be70fe11544e7b4"
          }
        },
        "244e3c52b9fb4afba8874d4be3c0211c": {
          "model_module": "@jupyter-widgets/controls",
          "model_name": "HTMLModel",
          "model_module_version": "1.5.0",
          "state": {
            "_dom_classes": [],
            "_model_module": "@jupyter-widgets/controls",
            "_model_module_version": "1.5.0",
            "_model_name": "HTMLModel",
            "_view_count": null,
            "_view_module": "@jupyter-widgets/controls",
            "_view_module_version": "1.5.0",
            "_view_name": "HTMLView",
            "description": "",
            "description_tooltip": null,
            "layout": "IPY_MODEL_f73e756d855d46609edb6b00a2a694b2",
            "placeholder": "​",
            "style": "IPY_MODEL_824e7884981b4e90a6f1fd771cf94950",
            "value": "100%"
          }
        },
        "f339369d119b46c6a2088178df330e8b": {
          "model_module": "@jupyter-widgets/controls",
          "model_name": "FloatProgressModel",
          "model_module_version": "1.5.0",
          "state": {
            "_dom_classes": [],
            "_model_module": "@jupyter-widgets/controls",
            "_model_module_version": "1.5.0",
            "_model_name": "FloatProgressModel",
            "_view_count": null,
            "_view_module": "@jupyter-widgets/controls",
            "_view_module_version": "1.5.0",
            "_view_name": "ProgressView",
            "bar_style": "success",
            "description": "",
            "description_tooltip": null,
            "layout": "IPY_MODEL_84d263c9129a429fac19bf025ba3936c",
            "max": 10000,
            "min": 0,
            "orientation": "horizontal",
            "style": "IPY_MODEL_f996f550e0bf40f0a06f61232ab1a498",
            "value": 10000
          }
        },
        "376120b879a14a96a0f90fa9b124ddfb": {
          "model_module": "@jupyter-widgets/controls",
          "model_name": "HTMLModel",
          "model_module_version": "1.5.0",
          "state": {
            "_dom_classes": [],
            "_model_module": "@jupyter-widgets/controls",
            "_model_module_version": "1.5.0",
            "_model_name": "HTMLModel",
            "_view_count": null,
            "_view_module": "@jupyter-widgets/controls",
            "_view_module_version": "1.5.0",
            "_view_name": "HTMLView",
            "description": "",
            "description_tooltip": null,
            "layout": "IPY_MODEL_cd044c61a30c41c9a4520dd04959b8b2",
            "placeholder": "​",
            "style": "IPY_MODEL_dce38dbe53e94f6c92fa89046654d8c0",
            "value": " 10000/10000 [00:13&lt;00:00, 847.80it/s]"
          }
        },
        "6dd7c7affd39415f8be70fe11544e7b4": {
          "model_module": "@jupyter-widgets/base",
          "model_name": "LayoutModel",
          "model_module_version": "1.2.0",
          "state": {
            "_model_module": "@jupyter-widgets/base",
            "_model_module_version": "1.2.0",
            "_model_name": "LayoutModel",
            "_view_count": null,
            "_view_module": "@jupyter-widgets/base",
            "_view_module_version": "1.2.0",
            "_view_name": "LayoutView",
            "align_content": null,
            "align_items": null,
            "align_self": null,
            "border": null,
            "bottom": null,
            "display": null,
            "flex": null,
            "flex_flow": null,
            "grid_area": null,
            "grid_auto_columns": null,
            "grid_auto_flow": null,
            "grid_auto_rows": null,
            "grid_column": null,
            "grid_gap": null,
            "grid_row": null,
            "grid_template_areas": null,
            "grid_template_columns": null,
            "grid_template_rows": null,
            "height": null,
            "justify_content": null,
            "justify_items": null,
            "left": null,
            "margin": null,
            "max_height": null,
            "max_width": null,
            "min_height": null,
            "min_width": null,
            "object_fit": null,
            "object_position": null,
            "order": null,
            "overflow": null,
            "overflow_x": null,
            "overflow_y": null,
            "padding": null,
            "right": null,
            "top": null,
            "visibility": null,
            "width": null
          }
        },
        "f73e756d855d46609edb6b00a2a694b2": {
          "model_module": "@jupyter-widgets/base",
          "model_name": "LayoutModel",
          "model_module_version": "1.2.0",
          "state": {
            "_model_module": "@jupyter-widgets/base",
            "_model_module_version": "1.2.0",
            "_model_name": "LayoutModel",
            "_view_count": null,
            "_view_module": "@jupyter-widgets/base",
            "_view_module_version": "1.2.0",
            "_view_name": "LayoutView",
            "align_content": null,
            "align_items": null,
            "align_self": null,
            "border": null,
            "bottom": null,
            "display": null,
            "flex": null,
            "flex_flow": null,
            "grid_area": null,
            "grid_auto_columns": null,
            "grid_auto_flow": null,
            "grid_auto_rows": null,
            "grid_column": null,
            "grid_gap": null,
            "grid_row": null,
            "grid_template_areas": null,
            "grid_template_columns": null,
            "grid_template_rows": null,
            "height": null,
            "justify_content": null,
            "justify_items": null,
            "left": null,
            "margin": null,
            "max_height": null,
            "max_width": null,
            "min_height": null,
            "min_width": null,
            "object_fit": null,
            "object_position": null,
            "order": null,
            "overflow": null,
            "overflow_x": null,
            "overflow_y": null,
            "padding": null,
            "right": null,
            "top": null,
            "visibility": null,
            "width": null
          }
        },
        "824e7884981b4e90a6f1fd771cf94950": {
          "model_module": "@jupyter-widgets/controls",
          "model_name": "DescriptionStyleModel",
          "model_module_version": "1.5.0",
          "state": {
            "_model_module": "@jupyter-widgets/controls",
            "_model_module_version": "1.5.0",
            "_model_name": "DescriptionStyleModel",
            "_view_count": null,
            "_view_module": "@jupyter-widgets/base",
            "_view_module_version": "1.2.0",
            "_view_name": "StyleView",
            "description_width": ""
          }
        },
        "84d263c9129a429fac19bf025ba3936c": {
          "model_module": "@jupyter-widgets/base",
          "model_name": "LayoutModel",
          "model_module_version": "1.2.0",
          "state": {
            "_model_module": "@jupyter-widgets/base",
            "_model_module_version": "1.2.0",
            "_model_name": "LayoutModel",
            "_view_count": null,
            "_view_module": "@jupyter-widgets/base",
            "_view_module_version": "1.2.0",
            "_view_name": "LayoutView",
            "align_content": null,
            "align_items": null,
            "align_self": null,
            "border": null,
            "bottom": null,
            "display": null,
            "flex": null,
            "flex_flow": null,
            "grid_area": null,
            "grid_auto_columns": null,
            "grid_auto_flow": null,
            "grid_auto_rows": null,
            "grid_column": null,
            "grid_gap": null,
            "grid_row": null,
            "grid_template_areas": null,
            "grid_template_columns": null,
            "grid_template_rows": null,
            "height": null,
            "justify_content": null,
            "justify_items": null,
            "left": null,
            "margin": null,
            "max_height": null,
            "max_width": null,
            "min_height": null,
            "min_width": null,
            "object_fit": null,
            "object_position": null,
            "order": null,
            "overflow": null,
            "overflow_x": null,
            "overflow_y": null,
            "padding": null,
            "right": null,
            "top": null,
            "visibility": null,
            "width": null
          }
        },
        "f996f550e0bf40f0a06f61232ab1a498": {
          "model_module": "@jupyter-widgets/controls",
          "model_name": "ProgressStyleModel",
          "model_module_version": "1.5.0",
          "state": {
            "_model_module": "@jupyter-widgets/controls",
            "_model_module_version": "1.5.0",
            "_model_name": "ProgressStyleModel",
            "_view_count": null,
            "_view_module": "@jupyter-widgets/base",
            "_view_module_version": "1.2.0",
            "_view_name": "StyleView",
            "bar_color": null,
            "description_width": ""
          }
        },
        "cd044c61a30c41c9a4520dd04959b8b2": {
          "model_module": "@jupyter-widgets/base",
          "model_name": "LayoutModel",
          "model_module_version": "1.2.0",
          "state": {
            "_model_module": "@jupyter-widgets/base",
            "_model_module_version": "1.2.0",
            "_model_name": "LayoutModel",
            "_view_count": null,
            "_view_module": "@jupyter-widgets/base",
            "_view_module_version": "1.2.0",
            "_view_name": "LayoutView",
            "align_content": null,
            "align_items": null,
            "align_self": null,
            "border": null,
            "bottom": null,
            "display": null,
            "flex": null,
            "flex_flow": null,
            "grid_area": null,
            "grid_auto_columns": null,
            "grid_auto_flow": null,
            "grid_auto_rows": null,
            "grid_column": null,
            "grid_gap": null,
            "grid_row": null,
            "grid_template_areas": null,
            "grid_template_columns": null,
            "grid_template_rows": null,
            "height": null,
            "justify_content": null,
            "justify_items": null,
            "left": null,
            "margin": null,
            "max_height": null,
            "max_width": null,
            "min_height": null,
            "min_width": null,
            "object_fit": null,
            "object_position": null,
            "order": null,
            "overflow": null,
            "overflow_x": null,
            "overflow_y": null,
            "padding": null,
            "right": null,
            "top": null,
            "visibility": null,
            "width": null
          }
        },
        "dce38dbe53e94f6c92fa89046654d8c0": {
          "model_module": "@jupyter-widgets/controls",
          "model_name": "DescriptionStyleModel",
          "model_module_version": "1.5.0",
          "state": {
            "_model_module": "@jupyter-widgets/controls",
            "_model_module_version": "1.5.0",
            "_model_name": "DescriptionStyleModel",
            "_view_count": null,
            "_view_module": "@jupyter-widgets/base",
            "_view_module_version": "1.2.0",
            "_view_name": "StyleView",
            "description_width": ""
          }
        }
      }
    }
  },
  "cells": [
    {
      "cell_type": "markdown",
      "source": [
        "В данном ноутбуке будет представлен один из вариантов построения доверительных интервалов для precision_recall и specificity_recall кривых с помощью метода Bootstrap"
      ],
      "metadata": {
        "id": "sk8V4Ec72dMw"
      }
    },
    {
      "cell_type": "markdown",
      "source": [
        "Данные и модель могут быть абсолютно любыми, однако в нашем случае будет использоваться предобработанный датасет о крушении Титаника + Логистическая регрессия. В данном примере это не играет особого значения, обратить внимание стоит именно на реализацию вышеупомянутого метода"
      ],
      "metadata": {
        "id": "ynKcs1Ez22SM"
      }
    },
    {
      "cell_type": "code",
      "execution_count": 18,
      "metadata": {
        "id": "dN4nikj_xwan"
      },
      "outputs": [],
      "source": [
        "import pandas as pd\n",
        "import numpy as np\n",
        "import matplotlib.pyplot as plt\n",
        "import seaborn as sns\n",
        "\n",
        "from sklearn.linear_model import LogisticRegression\n",
        "\n",
        "import warnings\n",
        "warnings.filterwarnings('ignore')\n",
        "\n",
        "from tqdm.notebook import tqdm\n",
        "\n",
        "## считываем данные и получаем предсказания (вероятности)\n",
        "\n",
        "df = pd.read_csv('titanic_example_df.csv')\n",
        "X = df.drop('Survived', axis = 1).values\n",
        "y_true = df['Survived'].values\n",
        "classifier = LogisticRegression().fit(X, y_true)\n",
        "y_prob = classifier.predict_proba(X)[:, 1]"
      ]
    },
    {
      "cell_type": "markdown",
      "source": [
        "Вместо ф-ции precision_recall_curve из библиотеки sklearn напишем её аналог, поскольку для нас важно сохранять все значения соответствующих метрик для каждой отсечки (кривая из библитеки сохраняет лишь уникальные значения)."
      ],
      "metadata": {
        "id": "1g3RXMuO4fgo"
      }
    },
    {
      "cell_type": "code",
      "source": [
        "def custom_precision_recall_curve(y_true, y_prob):\n",
        "\n",
        "    # Sorting predictions (desc)\n",
        "    idx = np.argsort(y_prob)[::-1]\n",
        "    y_prob = y_prob[idx]\n",
        "    y_true = y_true[idx]\n",
        "\n",
        "    precision = np.zeros(len(y_true))\n",
        "    recall = np.zeros(len(y_true))\n",
        "\n",
        "    tp = 0\n",
        "    fp = 0\n",
        "    fn = np.sum(y_true == 1)\n",
        "\n",
        "    for i in range(len(y_true)):\n",
        "         if y_true[i] == 1:\n",
        "            tp += 1\n",
        "            fn -= 1\n",
        "         else:\n",
        "            fp += 1\n",
        "         recall[i] = tp / (tp + fn)\n",
        "         precision[i] = tp / (tp + fp)\n",
        "\n",
        "    return np.array(precision), np.array(recall)"
      ],
      "metadata": {
        "id": "GE6kSSC82e0Q"
      },
      "execution_count": 19,
      "outputs": []
    },
    {
      "cell_type": "code",
      "source": [
        "# Фиксируем размер доверительного интервала, ключ для генерации индексов + количество Bootstrap выборок\n",
        "\n",
        "conf = 0.95\n",
        "alpha = 1 - conf\n",
        "rng_seed = 42\n",
        "rng = np.random.RandomState(rng_seed)\n",
        "n_bootstrap = 10000"
      ],
      "metadata": {
        "id": "LnxqtIN3_muN"
      },
      "execution_count": 20,
      "outputs": []
    },
    {
      "cell_type": "code",
      "source": [
        "precisions = []\n",
        "recalls = []"
      ],
      "metadata": {
        "id": "ti620r3r5Soi"
      },
      "execution_count": 21,
      "outputs": []
    },
    {
      "cell_type": "code",
      "source": [
        "for i in tqdm(range(n_bootstrap)):\n",
        "    idx = rng.randint(0, len(y_true), len(y_prob)) \n",
        "    y_true_b, y_prob_b = y_true[idx], y_prob[idx]  # генерация рандомной выборки на основе исходной\n",
        "    step_precision, step_recall = custom_precision_recall_curve(y_true_b, y_prob_b) # вычисление точности и полноты для каждой выборки\n",
        "    precisions.append(step_precision)\n",
        "    recalls.append(step_recall)"
      ],
      "metadata": {
        "colab": {
          "base_uri": "https://localhost:8080/",
          "height": 49,
          "referenced_widgets": [
            "3690028080444bc88591b12be709470b",
            "1ac555286159401790ad5e9a6c12d843",
            "bae74599119b40049cdf96f1f6dbfb97",
            "ff0b7fdb2ffe4e38b52fec498df0a06a",
            "97fdfd9621f14b09a65eb74986018975",
            "caf9613f28c14b0d94aefaea72eb288a",
            "c053ecd26ecc43bba18fc2406a2c630e",
            "3e1f48c273954f89a7c6cefa829ae7e3",
            "7110669dc20a43b09a42888c3542a345",
            "513a942b54f14d78a5aa42f99e886503",
            "5cdd6a6177a946bdbb5b381fa2640616"
          ]
        },
        "id": "rpm8Gx5h8Vml",
        "outputId": "aa938eda-0855-4b82-d509-0a3b23a2deb0"
      },
      "execution_count": 22,
      "outputs": [
        {
          "output_type": "display_data",
          "data": {
            "text/plain": [
              "  0%|          | 0/10000 [00:00<?, ?it/s]"
            ],
            "application/vnd.jupyter.widget-view+json": {
              "version_major": 2,
              "version_minor": 0,
              "model_id": "3690028080444bc88591b12be709470b"
            }
          },
          "metadata": {}
        }
      ]
    },
    {
      "cell_type": "markdown",
      "source": [
        "Итоговое значение метрики есть ничто иное, как её усредненное значение для отсечки на Bootstrap выборках. На них же вычисляем границы доверительных интервалов."
      ],
      "metadata": {
        "id": "Q-iWzz646SLx"
      }
    },
    {
      "cell_type": "code",
      "source": [
        "precisions = np.array(precisions)\n",
        "precisions = precisions[~np.isnan(precisions).any(axis = 1)]\n",
        "precision = np.mean(precisions, axis = 0)\n",
        "\n",
        "recalls = np.array(recalls)\n",
        "recalls = recalls[~np.isnan(recalls).any(axis = 1)]\n",
        "recall = np.mean(recalls, axis = 0)\n",
        "\n",
        "precision_lcb = np.quantile(precisions, (alpha / 2), axis = 0)\n",
        "precision_ucb = np.quantile(precisions, (1 - (alpha / 2)), axis = 0)\n",
        "\n",
        "recall_lcb = np.quantile(recalls, (alpha / 2), axis = 0)\n",
        "recall_ucb = np.quantile(recalls, (1 - (alpha / 2)), axis = 0)\n",
        "\n",
        "recall, precision = np.clip(recall, 0, 1), np.clip(precision, 0, 1)\n",
        "precision_lcb, precision_ucb = np.clip(precision_lcb, 0, 1), np.clip(precision_ucb, 0, 1)\n",
        "recall_lcb, recall_ucb = np.clip(recall_lcb, 0, 1), np.clip(recall_ucb, 0, 1)"
      ],
      "metadata": {
        "id": "lA2lnEQ--0hg"
      },
      "execution_count": 23,
      "outputs": []
    },
    {
      "cell_type": "code",
      "source": [
        "len(precision), len(recall)"
      ],
      "metadata": {
        "colab": {
          "base_uri": "https://localhost:8080/"
        },
        "id": "I8RETUOmST_a",
        "outputId": "5b8f73b5-eb31-41e2-c50e-10c6e6b1fd12"
      },
      "execution_count": 24,
      "outputs": [
        {
          "output_type": "execute_result",
          "data": {
            "text/plain": [
              "(891, 891)"
            ]
          },
          "metadata": {},
          "execution_count": 24
        }
      ]
    },
    {
      "cell_type": "code",
      "source": [
        "# Визуализация полученных результатов\n",
        "\n",
        "plt.xlabel('Recall')\n",
        "plt.ylabel('Precision')\n",
        "\n",
        "plt.plot(recall, precision, linewidth = 3, label = 'base_pr_curve')\n",
        "plt.plot(recall_lcb, precision_lcb, label = 'pr_curve_lcb')\n",
        "plt.plot(recall_ucb, precision_ucb, label = 'pr_curve_ucb')\n",
        "\n",
        "plt.legend();"
      ],
      "metadata": {
        "colab": {
          "base_uri": "https://localhost:8080/",
          "height": 449
        },
        "id": "X2-YFQ68tD45",
        "outputId": "8000042a-e194-41c9-fe20-5c0256a4ac97"
      },
      "execution_count": 25,
      "outputs": [
        {
          "output_type": "display_data",
          "data": {
            "text/plain": [
              "<Figure size 640x480 with 1 Axes>"
            ],
            "image/png": "[encoded data removed]"
          },
          "metadata": {}
        }
      ]
    },
    {
      "cell_type": "markdown",
      "source": [
        "Аналогиным образом поступаем в случае specificity_recall кривой"
      ],
      "metadata": {
        "id": "Kjx6OOPx7jK3"
      }
    },
    {
      "cell_type": "code",
      "source": [
        "def custom_specificity_recall_curve(y_true, y_prob):\n",
        "\n",
        "    idx = np.argsort(y_prob)[::-1]\n",
        "    y_prob = y_prob[idx]\n",
        "    y_true = y_true[idx]\n",
        "\n",
        "    specificity = np.zeros(len(y_true))\n",
        "    recall = np.zeros(len(y_true))\n",
        "\n",
        "    tp = 0\n",
        "    fp = 0\n",
        "    fn = np.sum(y_true == 1)\n",
        "    tn = np.sum(y_true == 0)\n",
        "\n",
        "    for i in range(len(y_true)):\n",
        "         if y_true[i] == 1:\n",
        "            tp += 1\n",
        "            fn -= 1\n",
        "         else:\n",
        "            fp += 1\n",
        "         recall[i] = tp / (tp + fn)\n",
        "         specificity[i] = tn / (tn + fp)\n",
        "\n",
        "    return np.array(specificity), np.array(recall)"
      ],
      "metadata": {
        "id": "FXZMgdKVuvUf"
      },
      "execution_count": 26,
      "outputs": []
    },
    {
      "cell_type": "code",
      "source": [
        "conf = 0.95\n",
        "alpha = 1 - conf\n",
        "rng_seed = 42\n",
        "rng = np.random.RandomState(rng_seed)\n",
        "n_bootstrap = 10000"
      ],
      "metadata": {
        "id": "_l9oCMpm6Vnx"
      },
      "execution_count": 27,
      "outputs": []
    },
    {
      "cell_type": "code",
      "source": [
        "specificities = []\n",
        "recalls = []\n",
        "\n",
        "for i in tqdm(range(n_bootstrap)):\n",
        "    idx = rng.randint(0, len(y_true), len(y_prob))\n",
        "    y_true_b, y_prob_b = y_true[idx], y_prob[idx]\n",
        "    step_specificity, step_recall = custom_specificity_recall_curve(y_true_b, y_prob_b)\n",
        "    specificities.append(step_specificity)\n",
        "    recalls.append(step_recall)"
      ],
      "metadata": {
        "colab": {
          "base_uri": "https://localhost:8080/",
          "height": 49,
          "referenced_widgets": [
            "7af4680f7b7d46a590420f3cb7f7a5a4",
            "244e3c52b9fb4afba8874d4be3c0211c",
            "f339369d119b46c6a2088178df330e8b",
            "376120b879a14a96a0f90fa9b124ddfb",
            "6dd7c7affd39415f8be70fe11544e7b4",
            "f73e756d855d46609edb6b00a2a694b2",
            "824e7884981b4e90a6f1fd771cf94950",
            "84d263c9129a429fac19bf025ba3936c",
            "f996f550e0bf40f0a06f61232ab1a498",
            "cd044c61a30c41c9a4520dd04959b8b2",
            "dce38dbe53e94f6c92fa89046654d8c0"
          ]
        },
        "id": "jXRUvri9ea70",
        "outputId": "91c4497c-5406-4b80-9698-efc328bf3948"
      },
      "execution_count": 28,
      "outputs": [
        {
          "output_type": "display_data",
          "data": {
            "text/plain": [
              "  0%|          | 0/10000 [00:00<?, ?it/s]"
            ],
            "application/vnd.jupyter.widget-view+json": {
              "version_major": 2,
              "version_minor": 0,
              "model_id": "7af4680f7b7d46a590420f3cb7f7a5a4"
            }
          },
          "metadata": {}
        }
      ]
    },
    {
      "cell_type": "code",
      "source": [
        "specificities = np.array(specificities)\n",
        "specificities = specificities[~np.isnan(specificities).any(axis = 1)]\n",
        "specificity = np.mean(specificities, axis = 0)\n",
        "\n",
        "recalls = np.array(recalls)\n",
        "recalls = recalls[~np.isnan(recalls).any(axis = 1)]\n",
        "recall = np.mean(recalls, axis = 0)\n",
        "\n",
        "specificity_lcb = np.quantile(specificities, (alpha / 2), axis = 0)\n",
        "specificity_ucb = np.quantile(specificities, (1 - (alpha / 2)), axis = 0)\n",
        "\n",
        "recall_lcb = np.quantile(recalls, (alpha / 2), axis = 0)\n",
        "recall_ucb = np.quantile(recalls, (1 - (alpha / 2)), axis = 0)\n",
        "\n",
        "recall, specificity = np.clip(recall, 0, 1), np.clip(specificity, 0, 1)\n",
        "specificity_lcb, specificity_ucb = np.clip(specificity_lcb, 0, 1), np.clip(specificity_ucb, 0, 1)\n",
        "recall_lcb, recall_ucb = np.clip(recall_lcb, 0, 1), np.clip(recall_ucb, 0, 1)"
      ],
      "metadata": {
        "id": "_hIt26JyewDp"
      },
      "execution_count": 29,
      "outputs": []
    },
    {
      "cell_type": "code",
      "source": [
        "# Визуализация полученных результатов\n",
        "\n",
        "plt.xlabel('Recall')\n",
        "plt.ylabel('Specificity')\n",
        "\n",
        "plt.plot(recall, specificity, linewidth = 3, label = 'base_sr_curve')\n",
        "plt.plot(recall_lcb, specificity_lcb, label = 'sr_curve_lcb')\n",
        "plt.plot(recall_ucb, specificity_ucb, label = 'sr_curve_ucb')\n",
        "\n",
        "plt.legend();"
      ],
      "metadata": {
        "colab": {
          "base_uri": "https://localhost:8080/",
          "height": 449
        },
        "id": "X5hVQQuOfpvC",
        "outputId": "35690614-2896-48d4-dd32-d6fb5e7c6bcf"
      },
      "execution_count": 30,
      "outputs": [
        {
          "output_type": "display_data",
          "data": {
            "text/plain": [
              "<Figure size 640x480 with 1 Axes>"
            ],
            "image/png": "[encoded data removed]"
          },
          "metadata": {}
        }
      ]
    }
  ]
}
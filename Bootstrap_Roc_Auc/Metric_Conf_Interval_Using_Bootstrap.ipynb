{
  "nbformat": 4,
  "nbformat_minor": 0,
  "metadata": {
    "colab": {
      "provenance": []
    },
    "kernelspec": {
      "name": "python3",
      "display_name": "Python 3"
    },
    "language_info": {
      "name": "python"
    }
  },
  "cells": [
    {
      "cell_type": "markdown",
      "source": [
        "Импортируем необходимые библиотеки"
      ],
      "metadata": {
        "id": "ONHg-Omjb0s9"
      }
    },
    {
      "cell_type": "markdown",
      "source": [
        "Логистическая регрессия + набор данных использовались исключительно в качестве примера. На деле же вместо них можно использовать что угодно."
      ],
      "metadata": {
        "id": "UFLMJAV6XBSf"
      }
    },
    {
      "cell_type": "code",
      "execution_count": null,
      "metadata": {
        "id": "vt7BgwwkbZJ4"
      },
      "outputs": [],
      "source": [
        "import numpy as np\n",
        "import pandas as pd\n",
        "\n",
        "from sklearn.metrics import roc_auc_score\n",
        "from sklearn.linear_model import LogisticRegression\n",
        "from sklearn.model_selection import train_test_split\n",
        "\n",
        "from scipy import stats\n",
        "from scipy.stats import shapiro\n",
        "\n",
        "import matplotlib.pyplot as plt\n",
        "import seaborn as sns\n",
        "\n",
        "import warnings\n",
        "warnings.filterwarnings('ignore')"
      ]
    },
    {
      "cell_type": "markdown",
      "source": [
        "В качестве примера решил использовать предобработанный датасет с данными о крушении Титаника."
      ],
      "metadata": {
        "id": "JGI2TV74Rfur"
      }
    },
    {
      "cell_type": "code",
      "source": [
        "df = pd.read_csv('titanic_example_df.csv')\n",
        "df"
      ],
      "metadata": {
        "colab": {
          "base_uri": "https://localhost:8080/",
          "height": 488
        },
        "id": "x85lUAfocN_e",
        "outputId": "bbaacdf5-669e-488c-b395-bc70adbe5228"
      },
      "execution_count": null,
      "outputs": [
        {
          "output_type": "execute_result",
          "data": {
            "text/plain": [
              "     Survived  Name  Sex  Age  SibSp  Parch     Fare  Embarked_Q  Embarked_S  \\\n",
              "0         0.0     4    1   22      1      0   7.2500           0           1   \n",
              "1         1.0     7    0   38      1      0  71.2833           0           0   \n",
              "2         1.0     3    0   26      0      0   7.9250           0           1   \n",
              "3         1.0     7    0   35      1      0  53.1000           0           1   \n",
              "4         0.0     4    1   35      0      0   8.0500           0           1   \n",
              "..        ...   ...  ...  ...    ...    ...      ...         ...         ...   \n",
              "886       0.0     3    1   27      0      0  13.0000           0           1   \n",
              "887       1.0     4    0   19      0      0  30.0000           0           1   \n",
              "888       0.0     5    0   22      1      2  23.4500           0           1   \n",
              "889       1.0     4    1   26      0      0  30.0000           0           0   \n",
              "890       0.0     3    1   32      0      0   7.7500           1           0   \n",
              "\n",
              "     Relatives  ...  Fem_and_first  Fem_first_child  Is_Child  Fem_and_child  \\\n",
              "0            1  ...              0                0         0            0.0   \n",
              "1            1  ...              1                0         0            0.0   \n",
              "2            0  ...              0                0         0            0.0   \n",
              "3            1  ...              1                0         0            0.0   \n",
              "4            0  ...              0                0         0            0.0   \n",
              "..         ...  ...            ...              ...       ...            ...   \n",
              "886          0  ...              0                0         0            0.0   \n",
              "887          0  ...              1                0         0            0.0   \n",
              "888          3  ...              0                0         0            0.0   \n",
              "889          0  ...              0                0         0            0.0   \n",
              "890          0  ...              0                0         0            0.0   \n",
              "\n",
              "     Low_advantages  High_advantages  Family_Size  Pclass_2  Pclass_3  \\\n",
              "0               0.0              0.0            2         0         1   \n",
              "1               1.0              0.0            2         0         0   \n",
              "2               0.0              0.0            1         0         1   \n",
              "3               1.0              0.0            2         0         0   \n",
              "4               0.0              0.0            1         0         1   \n",
              "..              ...              ...          ...       ...       ...   \n",
              "886             0.0              0.0            1         1         0   \n",
              "887             1.0              0.0            1         0         0   \n",
              "888             0.0              0.0            4         0         1   \n",
              "889             0.0              0.0            1         0         0   \n",
              "890             0.0              0.0            1         0         1   \n",
              "\n",
              "     Male_and_third  \n",
              "0                 1  \n",
              "1                 0  \n",
              "2                 0  \n",
              "3                 0  \n",
              "4                 1  \n",
              "..              ...  \n",
              "886               0  \n",
              "887               0  \n",
              "888               0  \n",
              "889               0  \n",
              "890               1  \n",
              "\n",
              "[891 rows x 21 columns]"
            ],
            "text/html": [
              "\n",
              "  <div id=\"df-5a613b89-8211-4b1b-a2bd-520074f40c57\">\n",
              "    <div class=\"colab-df-container\">\n",
              "      <div>\n",
              "<style scoped>\n",
              "    .dataframe tbody tr th:only-of-type {\n",
              "        vertical-align: middle;\n",
              "    }\n",
              "\n",
              "    .dataframe tbody tr th {\n",
              "        vertical-align: top;\n",
              "    }\n",
              "\n",
              "    .dataframe thead th {\n",
              "        text-align: right;\n",
              "    }\n",
              "</style>\n",
              "<table border=\"1\" class=\"dataframe\">\n",
              "  <thead>\n",
              "    <tr style=\"text-align: right;\">\n",
              "      <th></th>\n",
              "      <th>Survived</th>\n",
              "      <th>Name</th>\n",
              "      <th>Sex</th>\n",
              "      <th>Age</th>\n",
              "      <th>SibSp</th>\n",
              "      <th>Parch</th>\n",
              "      <th>Fare</th>\n",
              "      <th>Embarked_Q</th>\n",
              "      <th>Embarked_S</th>\n",
              "      <th>Relatives</th>\n",
              "      <th>...</th>\n",
              "      <th>Fem_and_first</th>\n",
              "      <th>Fem_first_child</th>\n",
              "      <th>Is_Child</th>\n",
              "      <th>Fem_and_child</th>\n",
              "      <th>Low_advantages</th>\n",
              "      <th>High_advantages</th>\n",
              "      <th>Family_Size</th>\n",
              "      <th>Pclass_2</th>\n",
              "      <th>Pclass_3</th>\n",
              "      <th>Male_and_third</th>\n",
              "    </tr>\n",
              "  </thead>\n",
              "  <tbody>\n",
              "    <tr>\n",
              "      <th>0</th>\n",
              "      <td>0.0</td>\n",
              "      <td>4</td>\n",
              "      <td>1</td>\n",
              "      <td>22</td>\n",
              "      <td>1</td>\n",
              "      <td>0</td>\n",
              "      <td>7.2500</td>\n",
              "      <td>0</td>\n",
              "      <td>1</td>\n",
              "      <td>1</td>\n",
              "      <td>...</td>\n",
              "      <td>0</td>\n",
              "      <td>0</td>\n",
              "      <td>0</td>\n",
              "      <td>0.0</td>\n",
              "      <td>0.0</td>\n",
              "      <td>0.0</td>\n",
              "      <td>2</td>\n",
              "      <td>0</td>\n",
              "      <td>1</td>\n",
              "      <td>1</td>\n",
              "    </tr>\n",
              "    <tr>\n",
              "      <th>1</th>\n",
              "      <td>1.0</td>\n",
              "      <td>7</td>\n",
              "      <td>0</td>\n",
              "      <td>38</td>\n",
              "      <td>1</td>\n",
              "      <td>0</td>\n",
              "      <td>71.2833</td>\n",
              "      <td>0</td>\n",
              "      <td>0</td>\n",
              "      <td>1</td>\n",
              "      <td>...</td>\n",
              "      <td>1</td>\n",
              "      <td>0</td>\n",
              "      <td>0</td>\n",
              "      <td>0.0</td>\n",
              "      <td>1.0</td>\n",
              "      <td>0.0</td>\n",
              "      <td>2</td>\n",
              "      <td>0</td>\n",
              "      <td>0</td>\n",
              "      <td>0</td>\n",
              "    </tr>\n",
              "    <tr>\n",
              "      <th>2</th>\n",
              "      <td>1.0</td>\n",
              "      <td>3</td>\n",
              "      <td>0</td>\n",
              "      <td>26</td>\n",
              "      <td>0</td>\n",
              "      <td>0</td>\n",
              "      <td>7.9250</td>\n",
              "      <td>0</td>\n",
              "      <td>1</td>\n",
              "      <td>0</td>\n",
              "      <td>...</td>\n",
              "      <td>0</td>\n",
              "      <td>0</td>\n",
              "      <td>0</td>\n",
              "      <td>0.0</td>\n",
              "      <td>0.0</td>\n",
              "      <td>0.0</td>\n",
              "      <td>1</td>\n",
              "      <td>0</td>\n",
              "      <td>1</td>\n",
              "      <td>0</td>\n",
              "    </tr>\n",
              "    <tr>\n",
              "      <th>3</th>\n",
              "      <td>1.0</td>\n",
              "      <td>7</td>\n",
              "      <td>0</td>\n",
              "      <td>35</td>\n",
              "      <td>1</td>\n",
              "      <td>0</td>\n",
              "      <td>53.1000</td>\n",
              "      <td>0</td>\n",
              "      <td>1</td>\n",
              "      <td>1</td>\n",
              "      <td>...</td>\n",
              "      <td>1</td>\n",
              "      <td>0</td>\n",
              "      <td>0</td>\n",
              "      <td>0.0</td>\n",
              "      <td>1.0</td>\n",
              "      <td>0.0</td>\n",
              "      <td>2</td>\n",
              "      <td>0</td>\n",
              "      <td>0</td>\n",
              "      <td>0</td>\n",
              "    </tr>\n",
              "    <tr>\n",
              "      <th>4</th>\n",
              "      <td>0.0</td>\n",
              "      <td>4</td>\n",
              "      <td>1</td>\n",
              "      <td>35</td>\n",
              "      <td>0</td>\n",
              "      <td>0</td>\n",
              "      <td>8.0500</td>\n",
              "      <td>0</td>\n",
              "      <td>1</td>\n",
              "      <td>0</td>\n",
              "      <td>...</td>\n",
              "      <td>0</td>\n",
              "      <td>0</td>\n",
              "      <td>0</td>\n",
              "      <td>0.0</td>\n",
              "      <td>0.0</td>\n",
              "      <td>0.0</td>\n",
              "      <td>1</td>\n",
              "      <td>0</td>\n",
              "      <td>1</td>\n",
              "      <td>1</td>\n",
              "    </tr>\n",
              "    <tr>\n",
              "      <th>...</th>\n",
              "      <td>...</td>\n",
              "      <td>...</td>\n",
              "      <td>...</td>\n",
              "      <td>...</td>\n",
              "      <td>...</td>\n",
              "      <td>...</td>\n",
              "      <td>...</td>\n",
              "      <td>...</td>\n",
              "      <td>...</td>\n",
              "      <td>...</td>\n",
              "      <td>...</td>\n",
              "      <td>...</td>\n",
              "      <td>...</td>\n",
              "      <td>...</td>\n",
              "      <td>...</td>\n",
              "      <td>...</td>\n",
              "      <td>...</td>\n",
              "      <td>...</td>\n",
              "      <td>...</td>\n",
              "      <td>...</td>\n",
              "      <td>...</td>\n",
              "    </tr>\n",
              "    <tr>\n",
              "      <th>886</th>\n",
              "      <td>0.0</td>\n",
              "      <td>3</td>\n",
              "      <td>1</td>\n",
              "      <td>27</td>\n",
              "      <td>0</td>\n",
              "      <td>0</td>\n",
              "      <td>13.0000</td>\n",
              "      <td>0</td>\n",
              "      <td>1</td>\n",
              "      <td>0</td>\n",
              "      <td>...</td>\n",
              "      <td>0</td>\n",
              "      <td>0</td>\n",
              "      <td>0</td>\n",
              "      <td>0.0</td>\n",
              "      <td>0.0</td>\n",
              "      <td>0.0</td>\n",
              "      <td>1</td>\n",
              "      <td>1</td>\n",
              "      <td>0</td>\n",
              "      <td>0</td>\n",
              "    </tr>\n",
              "    <tr>\n",
              "      <th>887</th>\n",
              "      <td>1.0</td>\n",
              "      <td>4</td>\n",
              "      <td>0</td>\n",
              "      <td>19</td>\n",
              "      <td>0</td>\n",
              "      <td>0</td>\n",
              "      <td>30.0000</td>\n",
              "      <td>0</td>\n",
              "      <td>1</td>\n",
              "      <td>0</td>\n",
              "      <td>...</td>\n",
              "      <td>1</td>\n",
              "      <td>0</td>\n",
              "      <td>0</td>\n",
              "      <td>0.0</td>\n",
              "      <td>1.0</td>\n",
              "      <td>0.0</td>\n",
              "      <td>1</td>\n",
              "      <td>0</td>\n",
              "      <td>0</td>\n",
              "      <td>0</td>\n",
              "    </tr>\n",
              "    <tr>\n",
              "      <th>888</th>\n",
              "      <td>0.0</td>\n",
              "      <td>5</td>\n",
              "      <td>0</td>\n",
              "      <td>22</td>\n",
              "      <td>1</td>\n",
              "      <td>2</td>\n",
              "      <td>23.4500</td>\n",
              "      <td>0</td>\n",
              "      <td>1</td>\n",
              "      <td>3</td>\n",
              "      <td>...</td>\n",
              "      <td>0</td>\n",
              "      <td>0</td>\n",
              "      <td>0</td>\n",
              "      <td>0.0</td>\n",
              "      <td>0.0</td>\n",
              "      <td>0.0</td>\n",
              "      <td>4</td>\n",
              "      <td>0</td>\n",
              "      <td>1</td>\n",
              "      <td>0</td>\n",
              "    </tr>\n",
              "    <tr>\n",
              "      <th>889</th>\n",
              "      <td>1.0</td>\n",
              "      <td>4</td>\n",
              "      <td>1</td>\n",
              "      <td>26</td>\n",
              "      <td>0</td>\n",
              "      <td>0</td>\n",
              "      <td>30.0000</td>\n",
              "      <td>0</td>\n",
              "      <td>0</td>\n",
              "      <td>0</td>\n",
              "      <td>...</td>\n",
              "      <td>0</td>\n",
              "      <td>0</td>\n",
              "      <td>0</td>\n",
              "      <td>0.0</td>\n",
              "      <td>0.0</td>\n",
              "      <td>0.0</td>\n",
              "      <td>1</td>\n",
              "      <td>0</td>\n",
              "      <td>0</td>\n",
              "      <td>0</td>\n",
              "    </tr>\n",
              "    <tr>\n",
              "      <th>890</th>\n",
              "      <td>0.0</td>\n",
              "      <td>3</td>\n",
              "      <td>1</td>\n",
              "      <td>32</td>\n",
              "      <td>0</td>\n",
              "      <td>0</td>\n",
              "      <td>7.7500</td>\n",
              "      <td>1</td>\n",
              "      <td>0</td>\n",
              "      <td>0</td>\n",
              "      <td>...</td>\n",
              "      <td>0</td>\n",
              "      <td>0</td>\n",
              "      <td>0</td>\n",
              "      <td>0.0</td>\n",
              "      <td>0.0</td>\n",
              "      <td>0.0</td>\n",
              "      <td>1</td>\n",
              "      <td>0</td>\n",
              "      <td>1</td>\n",
              "      <td>1</td>\n",
              "    </tr>\n",
              "  </tbody>\n",
              "</table>\n",
              "<p>891 rows × 21 columns</p>\n",
              "</div>\n",
              "      <button class=\"colab-df-convert\" onclick=\"convertToInteractive('df-5a613b89-8211-4b1b-a2bd-520074f40c57')\"\n",
              "              title=\"Convert this dataframe to an interactive table.\"\n",
              "              style=\"display:none;\">\n",
              "        \n",
              "  <svg xmlns=\"http://www.w3.org/2000/svg\" height=\"24px\"viewBox=\"0 0 24 24\"\n",
              "       width=\"24px\">\n",
              "    <path d=\"M0 0h24v24H0V0z\" fill=\"none\"/>\n",
              "    <path d=\"M18.56 5.44l.94 2.06.94-2.06 2.06-.94-2.06-.94-.94-2.06-.94 2.06-2.06.94zm-11 1L8.5 8.5l.94-2.06 2.06-.94-2.06-.94L8.5 2.5l-.94 2.06-2.06.94zm10 10l.94 2.06.94-2.06 2.06-.94-2.06-.94-.94-2.06-.94 2.06-2.06.94z\"/><path d=\"M17.41 7.96l-1.37-1.37c-.4-.4-.92-.59-1.43-.59-.52 0-1.04.2-1.43.59L10.3 9.45l-7.72 7.72c-.78.78-.78 2.05 0 2.83L4 21.41c.39.39.9.59 1.41.59.51 0 1.02-.2 1.41-.59l7.78-7.78 2.81-2.81c.8-.78.8-2.07 0-2.86zM5.41 20L4 18.59l7.72-7.72 1.47 1.35L5.41 20z\"/>\n",
              "  </svg>\n",
              "      </button>\n",
              "      \n",
              "  <style>\n",
              "    .colab-df-container {\n",
              "      display:flex;\n",
              "      flex-wrap:wrap;\n",
              "      gap: 12px;\n",
              "    }\n",
              "\n",
              "    .colab-df-convert {\n",
              "      background-color: #E8F0FE;\n",
              "      border: none;\n",
              "      border-radius: 50%;\n",
              "      cursor: pointer;\n",
              "      display: none;\n",
              "      fill: #1967D2;\n",
              "      height: 32px;\n",
              "      padding: 0 0 0 0;\n",
              "      width: 32px;\n",
              "    }\n",
              "\n",
              "    .colab-df-convert:hover {\n",
              "      background-color: #E2EBFA;\n",
              "      box-shadow: 0px 1px 2px rgba(60, 64, 67, 0.3), 0px 1px 3px 1px rgba(60, 64, 67, 0.15);\n",
              "      fill: #174EA6;\n",
              "    }\n",
              "\n",
              "    [theme=dark] .colab-df-convert {\n",
              "      background-color: #3B4455;\n",
              "      fill: #D2E3FC;\n",
              "    }\n",
              "\n",
              "    [theme=dark] .colab-df-convert:hover {\n",
              "      background-color: #434B5C;\n",
              "      box-shadow: 0px 1px 3px 1px rgba(0, 0, 0, 0.15);\n",
              "      filter: drop-shadow(0px 1px 2px rgba(0, 0, 0, 0.3));\n",
              "      fill: #FFFFFF;\n",
              "    }\n",
              "  </style>\n",
              "\n",
              "      <script>\n",
              "        const buttonEl =\n",
              "          document.querySelector('#df-5a613b89-8211-4b1b-a2bd-520074f40c57 button.colab-df-convert');\n",
              "        buttonEl.style.display =\n",
              "          google.colab.kernel.accessAllowed ? 'block' : 'none';\n",
              "\n",
              "        async function convertToInteractive(key) {\n",
              "          const element = document.querySelector('#df-5a613b89-8211-4b1b-a2bd-520074f40c57');\n",
              "          const dataTable =\n",
              "            await google.colab.kernel.invokeFunction('convertToInteractive',\n",
              "                                                     [key], {});\n",
              "          if (!dataTable) return;\n",
              "\n",
              "          const docLinkHtml = 'Like what you see? Visit the ' +\n",
              "            '<a target=\"_blank\" href=https://colab.research.google.com/notebooks/data_table.ipynb>data table notebook</a>'\n",
              "            + ' to learn more about interactive tables.';\n",
              "          element.innerHTML = '';\n",
              "          dataTable['output_type'] = 'display_data';\n",
              "          await google.colab.output.renderOutput(dataTable, element);\n",
              "          const docLink = document.createElement('div');\n",
              "          docLink.innerHTML = docLinkHtml;\n",
              "          element.appendChild(docLink);\n",
              "        }\n",
              "      </script>\n",
              "    </div>\n",
              "  </div>\n",
              "  "
            ]
          },
          "metadata": {},
          "execution_count": 9
        }
      ]
    },
    {
      "cell_type": "markdown",
      "source": [
        "Для реализации метода необходимо получить набор предсказаний (вероятностей) + истинных классов"
      ],
      "metadata": {
        "id": "yYtZmFWMRPPo"
      }
    },
    {
      "cell_type": "code",
      "source": [
        "X = df.drop('Survived', axis = 1).values\n",
        "y = df['Survived'].values\n",
        "\n",
        "X_train, X_test, y_train, y_test = train_test_split(X, y, test_size = 0.2, shuffle = True) # делим выборку на тренировочную + тестовую\n",
        "\n",
        "model = LogisticRegression().fit(X_train, y_train)                                         # обучаем модель\n",
        "predictions = model.predict_proba(X_test)[:, 1]                                            # получаем набор предсказанных вероятностей"
      ],
      "metadata": {
        "id": "18odokiCcgnQ"
      },
      "execution_count": null,
      "outputs": []
    },
    {
      "cell_type": "code",
      "source": [
        "roc_auc_score(y_test, predictions)"
      ],
      "metadata": {
        "colab": {
          "base_uri": "https://localhost:8080/"
        },
        "id": "rgwYfPyueNVb",
        "outputId": "cc72b451-62ad-4ac3-c195-55a47595bd8e"
      },
      "execution_count": null,
      "outputs": [
        {
          "output_type": "execute_result",
          "data": {
            "text/plain": [
              "(0.8623853211009174, 179)"
            ]
          },
          "metadata": {},
          "execution_count": 15
        }
      ]
    },
    {
      "cell_type": "code",
      "source": [
        "conf = 0.95            # задаем необходимые параметры доверительного интервала\n",
        "alpha = 1 - conf\n",
        "\n",
        "n_bootstraps = 10000   # количество Bootstrap выборок\n",
        "rng_seed = 42          # фиксируем rng_seed для генерации набора индексов (по ним будет происходить генерация новых выборок)\n",
        "rng = np.random.RandomState(rng_seed) \n",
        "\n",
        "labels_size = y_test.shape[0]\n",
        "\n",
        "metric_values = []     # множество значений нашей метрики"
      ],
      "metadata": {
        "id": "MPSY8XSnd0_c"
      },
      "execution_count": null,
      "outputs": []
    },
    {
      "cell_type": "markdown",
      "source": [
        "Генерируем 10000 выборок, размеры которых совпадают с исходной. \n",
        "На каждой считаем значение целевой метрики.\n",
        "Полученные значения помещаем в metric_values."
      ],
      "metadata": {
        "id": "IeeWGxyxTzAH"
      }
    },
    {
      "cell_type": "code",
      "source": [
        "for i in range(n_bootstraps):\n",
        "    idx = rng.randint(0, labels_size, labels_size)                       # генерация рандомного набора индексов \n",
        "    try:\n",
        "        step_metric_score = roc_auc_score(y_test[idx], predictions[idx]) # подсчет метрики roc_auc на полученной выборке \n",
        "        metric_values.append(step_metric_score) \n",
        "    except ValueError:\n",
        "        pass"
      ],
      "metadata": {
        "id": "jsKC169Meocx"
      },
      "execution_count": null,
      "outputs": []
    },
    {
      "cell_type": "markdown",
      "source": [
        "Визуализируем полученные результаты"
      ],
      "metadata": {
        "id": "0xvE2CSWT6Qc"
      }
    },
    {
      "cell_type": "code",
      "source": [
        "sns.displot(metric_values);"
      ],
      "metadata": {
        "colab": {
          "base_uri": "https://localhost:8080/",
          "height": 506
        },
        "id": "tX75fvalfOun",
        "outputId": "f0adcabc-646c-4542-9b6b-986c5193f8e5"
      },
      "execution_count": null,
      "outputs": [
        {
          "output_type": "display_data",
          "data": {
            "text/plain": [
              "<Figure size 500x500 with 1 Axes>"
            ],
            "image/png": "[encoded data removed]"
          },
          "metadata": {}
        }
      ]
    },
    {
      "cell_type": "markdown",
      "source": [
        "Проверяем распределение на нормальность для более точной оценки доверительного интервала (используем тест Шапиро-Уилка)."
      ],
      "metadata": {
        "id": "BNwvk7xaUJ24"
      }
    },
    {
      "cell_type": "code",
      "source": [
        "dist_pvalue = shapiro(metric_values).pvalue\n",
        "dist_pvalue"
      ],
      "metadata": {
        "colab": {
          "base_uri": "https://localhost:8080/"
        },
        "id": "9DxMhGcDfaNd",
        "outputId": "14bf21ac-9b90-481f-837c-912403eee5a4"
      },
      "execution_count": null,
      "outputs": [
        {
          "output_type": "execute_result",
          "data": {
            "text/plain": [
              "1.1698874291185546e-12"
            ]
          },
          "metadata": {},
          "execution_count": 25
        }
      ]
    },
    {
      "cell_type": "markdown",
      "source": [
        "В зависимости от характера распределения, используем соответсвующие формулы для подсчета границ доверительного интервала"
      ],
      "metadata": {
        "id": "BcoC0S0SUfY_"
      }
    },
    {
      "cell_type": "code",
      "source": [
        "if dist_pvalue < 0.05:\n",
        "    lcb = np.quantile(metric_values, (alpha / 2))\n",
        "    ucb = np.quantile(metric_values, (1 - (alpha / 2)))\n",
        "else:\n",
        "    std = np.std(metric_values)\n",
        "    mean = np.average(metric_values)\n",
        "    z = stats.norm.ppf(1 - (alpha / 2))\n",
        "    lcb = (mean - z * std)\n",
        "    ucb = (mean + z * std)\n",
        "\n",
        "lcb, ucb"
      ],
      "metadata": {
        "colab": {
          "base_uri": "https://localhost:8080/"
        },
        "id": "XbwjFujXgmaB",
        "outputId": "d1466c6e-56d2-4e6f-8076-5ee03e83d546"
      },
      "execution_count": null,
      "outputs": [
        {
          "output_type": "execute_result",
          "data": {
            "text/plain": [
              "(0.8004790356625171, 0.9167856455195798)"
            ]
          },
          "metadata": {},
          "execution_count": 26
        }
      ]
    },
    {
      "cell_type": "markdown",
      "source": [
        "Визуализируем полученные данные."
      ],
      "metadata": {
        "id": "zkF2FqAEWJdK"
      }
    },
    {
      "cell_type": "code",
      "source": [
        "d = 0.02\n",
        "\n",
        "sns.displot(metric_values)\n",
        "plt.plot((lcb, ucb), [-d*2, -d*2], color = 'red', linewidth = 2.0, label = '95% confidence interval')\n",
        "plt.axvline(lcb, 0, color = 'red')\n",
        "plt.axvline(ucb, 0, color = 'red')\n",
        "plt.legend()\n",
        "plt.show();"
      ],
      "metadata": {
        "colab": {
          "base_uri": "https://localhost:8080/",
          "height": 506
        },
        "id": "mC6RPgnbhXQt",
        "outputId": "7104a9fc-ab5c-4a15-a9b3-51998740590e"
      },
      "execution_count": null,
      "outputs": [
        {
          "output_type": "display_data",
          "data": {
            "text/plain": [
              "<Figure size 500x500 with 1 Axes>"
            ],
            "image/png": "[encoded data removed]"
          },
          "metadata": {}
        }
      ]
    },
    {
      "cell_type": "markdown",
      "source": [
        "Пример ф-ции для подобной задачи.\n",
        "Для корректной работы необходимо использовать предобученную модель."
      ],
      "metadata": {
        "id": "PMw_5E07WS8B"
      }
    },
    {
      "cell_type": "code",
      "source": [
        "# Example function for pre-trained models\n",
        "\n",
        "from typing import Tuple\n",
        "from sklearn.base import ClassifierMixin\n",
        "\n",
        "def roc_auc_conf_interval_bounds(\n",
        "    classifier: ClassifierMixin,\n",
        "    X: np.ndarray,\n",
        "    y: np.ndarray,\n",
        "    conf: float = 0.95,\n",
        "    n_bootstraps: int = 10000,\n",
        ") -> Tuple[float, float]:\n",
        "    \"\"\"Returns confidence bounds of the ROC-AUC\"\"\"\n",
        "\n",
        "    labels_size = len(y)\n",
        "    predictions = classifier.predict_proba(X)[:, 1]\n",
        "    predictions_size = len(predictions)\n",
        "\n",
        "    alpha = 1 - conf\n",
        "    metric_values = []\n",
        "    rng_seed = 42\n",
        "    rng = np.random.RandomState(rng_seed)\n",
        "    \n",
        "    for i in range(n_bootstraps):\n",
        "        idx = rng.randint(0, labels_size, predictions_size)\n",
        "        try:\n",
        "            step_metric_score = roc_auc_score(y[idx], predictions[idx])\n",
        "            metric_values.append(step_metric_score)\n",
        "        except ValueError:\n",
        "            pass\n",
        "    \n",
        "    p_value = shapiro(metric_values).pvalue\n",
        "\n",
        "    if p_value < 0.05:\n",
        "        lcb, ucb = np.quantile(metric_values, (alpha / 2)), np.quantile(metric_values, (1 - (alpha / 2)))\n",
        "    else:\n",
        "        std = np.std(metric_values)\n",
        "        mean = np.average(metric_values)\n",
        "        z = stats.norm.ppf(1 - alpha / 2)\n",
        "        lcb, ucb = (mean - z * std), (mean + z * std)   \n",
        "\n",
        "    return (lcb, ucb)"
      ],
      "metadata": {
        "id": "OuWg_-YooFdl"
      },
      "execution_count": null,
      "outputs": []
    }
  ]
}